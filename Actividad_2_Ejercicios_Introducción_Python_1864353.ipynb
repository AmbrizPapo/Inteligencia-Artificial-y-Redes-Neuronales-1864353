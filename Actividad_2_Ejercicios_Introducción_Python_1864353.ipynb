{
  "nbformat": 4,
  "nbformat_minor": 0,
  "metadata": {
    "colab": {
      "name": "Actividad 2.- Ejercicios Introducción Python 1864353",
      "provenance": [],
      "collapsed_sections": [],
      "authorship_tag": "ABX9TyOBxYdH49nki9FDErbxDP2w",
      "include_colab_link": true
    },
    "kernelspec": {
      "name": "python3",
      "display_name": "Python 3"
    },
    "language_info": {
      "name": "python"
    }
  },
  "cells": [
    {
      "cell_type": "markdown",
      "metadata": {
        "id": "view-in-github",
        "colab_type": "text"
      },
      "source": [
        "<a href=\"https://colab.research.google.com/github/AmbrizPapo/Inteligencia-Artificial-y-Redes-Neuronales-1864353/blob/main/Actividad_2_Ejercicios_Introducci%C3%B3n_Python_1864353.ipynb\" target=\"_parent\"><img src=\"https://colab.research.google.com/assets/colab-badge.svg\" alt=\"Open In Colab\"/></a>"
      ]
    },
    {
      "cell_type": "markdown",
      "metadata": {
        "id": "AT6aDtQP9Qcd"
      },
      "source": [
        "# **Juan Pablo Ambriz Amador 1864353 IB IA y RN**"
      ]
    },
    {
      "cell_type": "markdown",
      "metadata": {
        "id": "r5urxh9n0CaK"
      },
      "source": [
        "**Ejercicio 1:** Crear un programa que pregunte al usuario por su nombre, edad, una frase favorita y autor de la frase favorita. El programa deberá de imprimir un mensaje compuesto por el nombre y edad del usuario diciendo que su frase favorita es la que dió anteriormente y el autor de dicha frase es el nombre previamente dado. Aquí habrá que realizar una concatenación de variables. "
      ]
    },
    {
      "cell_type": "code",
      "metadata": {
        "colab": {
          "base_uri": "https://localhost:8080/"
        },
        "id": "qTgWK5bNxMrR",
        "outputId": "fcd7a9e5-4e51-4686-d58a-738a8c8c3b66"
      },
      "source": [
        "\"Ejercicio #1\"\n",
        "print(\"Hola :)\")\n",
        "nombre = input(\"¿Cuál es tu nombre? \")\n",
        "edad = input(\"¿Cuantos años tienes? \")\n",
        "frase = input(\"¿Cuál es tu frase favorita? \")\n",
        "autor = input(\"¿Quién es el autor de esta frase? \")\n",
        "\n",
        "print(\"Eres \" + nombre + \", con \" + edad + \" años de edad.\\nY tu frase favorita es <\" + frase + \"> de \" + autor + \".\")"
      ],
      "execution_count": 40,
      "outputs": [
        {
          "output_type": "stream",
          "name": "stdout",
          "text": [
            "Hola :)\n",
            "¿Cuál es tu nombre? Juan Pablo\n",
            "¿Cuantos años tienes? 20\n",
            "¿Cuál es tu frase favorita? It aint the speakers that bump hearts its our hearts that make the beat\n",
            "¿Quién es el autor de esta frase? Tyler Joseph\n",
            "Eres Juan Pablo, con 20 años de edad.\n",
            "Y tu frase favorita es <It aint the speakers that bump hearts its our hearts that make the beat> de Tyler Joseph.\n"
          ]
        }
      ]
    },
    {
      "cell_type": "markdown",
      "metadata": {
        "id": "xWlx8LUMz-GK"
      },
      "source": [
        "**Ejercicio 2:** Crear un programa que le pida al usuario capturar dos números enteros y dos números flotantes. Después, realizará la suma, resta, multiplicación y división, de ambos pares de números. Como resultado se deberán de obtener 8 valores. Imprimir todos estos reultados."
      ]
    },
    {
      "cell_type": "code",
      "metadata": {
        "colab": {
          "base_uri": "https://localhost:8080/"
        },
        "id": "CuNBdD0Vz9jc",
        "outputId": "43cd3c1b-af3c-4833-f445-5fb1c794942c"
      },
      "source": [
        "\"Ejercicio #2\"\n",
        "print(\"Buen día :)\")\n",
        "n_entero = int(input(\"Ingresa un número entero: \"))\n",
        "n_entero2 = int(input(\"Ingresa un segundo número entero: \"))\n",
        "n_decimal = float(input(\"Ingresa un número decimal: \"))\n",
        "n_decimal2 = float(input(\"Ingresa un segundo número decimal: \"))\n",
        "\n",
        "print(\"La Suma de tus números enteros sería: \")\n",
        "print(n_entero + n_entero2)\n",
        "print(\"La Resta de tus números enteros sería: \")\n",
        "print(n_entero - n_entero2)\n",
        "print(\"La Multiplicación de tus números enteros sería: \")\n",
        "print(n_entero * n_entero2)\n",
        "print(\"Y La División de tus números enteros sería: \")\n",
        "print(n_entero / n_entero2)\n",
        "\n",
        "print(\"La Suma de tus números decimales sería: \")\n",
        "print(n_decimal + n_decimal2)\n",
        "print(\"La Resta de tus números decimales sería: \")\n",
        "print(n_decimal - n_decimal2)\n",
        "print(\"La Multiplicación de tus números decimales sería: \")\n",
        "print(n_decimal * n_decimal2)\n",
        "print(\"La División de tus números decimales sería: \")\n",
        "print(n_decimal / n_decimal2)\n"
      ],
      "execution_count": 11,
      "outputs": [
        {
          "output_type": "stream",
          "name": "stdout",
          "text": [
            "Buen día :)\n",
            "Ingresa un número entero: 1\n",
            "Ingresa un segundo número entero: 2\n",
            "Ingresa un número decimal: .30\n",
            "Ingresa un segundo número decimal: .21\n",
            "La suma de tus números enteros sería: \n",
            "3\n",
            "La Resta de tus números enteros sería: \n",
            "-1\n",
            "La Multiplicación de tus números enteros sería: \n",
            "2\n",
            "Y La División de tus números enteros sería: \n",
            "0.5\n",
            "La suma de tus números decimales sería: \n",
            "0.51\n",
            "La Resta de tus números decimales sería: \n",
            "0.09\n",
            "La Multiplicación de tus números decimales sería: \n",
            "0.063\n",
            "La División de tus números decimales sería: \n",
            "1.4285714285714286\n"
          ]
        }
      ]
    },
    {
      "cell_type": "markdown",
      "metadata": {
        "id": "z7WbpGOvz-sR"
      },
      "source": [
        "**Ejercicio 3:** Crear un programa que evalúe dos expresiones lógicas con `and`, dos con `or` y dos con `not`. Cada expresión deberá hacer uso de operadores de comparación. \n"
      ]
    },
    {
      "cell_type": "code",
      "metadata": {
        "colab": {
          "base_uri": "https://localhost:8080/"
        },
        "id": "VkQlyNNq0DIq",
        "outputId": "353ef2b6-1996-411b-ebfe-7f36ffc89385"
      },
      "source": [
        "\"Ejercicio 3\"\n",
        "print(10>1 and 10>2)\n",
        "print(10<1 and 10<11)\n",
        "\n",
        "print(10>1 or 10>=2)\n",
        "print(10>12 or 10==11)\n",
        "\n",
        "print(not(1<12 and 10>=11))\n",
        "print(not(2<=3 and 13>12))"
      ],
      "execution_count": 39,
      "outputs": [
        {
          "output_type": "stream",
          "name": "stdout",
          "text": [
            "True\n",
            "False\n",
            "True\n",
            "False\n",
            "True\n",
            "False\n"
          ]
        }
      ]
    }
  ]
}