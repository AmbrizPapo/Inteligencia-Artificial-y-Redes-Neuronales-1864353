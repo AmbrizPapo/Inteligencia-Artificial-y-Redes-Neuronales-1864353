{
  "nbformat": 4,
  "nbformat_minor": 0,
  "metadata": {
    "colab": {
      "name": "IA_Ejercicio1_ JuanPabloAmbrizAmador_1864353",
      "provenance": [],
      "collapsed_sections": [],
      "authorship_tag": "ABX9TyMweC9qui5xjiT9COPiWdsV",
      "include_colab_link": true
    },
    "kernelspec": {
      "name": "python3",
      "display_name": "Python 3"
    },
    "language_info": {
      "name": "python"
    }
  },
  "cells": [
    {
      "cell_type": "markdown",
      "metadata": {
        "id": "view-in-github",
        "colab_type": "text"
      },
      "source": [
        "<a href=\"https://colab.research.google.com/github/AmbrizPapo/Inteligencia-Artificial-y-Redes-Neuronales-1864353/blob/main/IA_Ejercicio1__JuanPabloAmbrizAmador_1864353.ipynb\" target=\"_parent\"><img src=\"https://colab.research.google.com/assets/colab-badge.svg\" alt=\"Open In Colab\"/></a>"
      ]
    },
    {
      "cell_type": "markdown",
      "metadata": {
        "id": "AT6aDtQP9Qcd"
      },
      "source": [
        "# **Juan Pablo Ambriz Amador 1864353 IB IA y RN N4**"
      ]
    },
    {
      "cell_type": "markdown",
      "metadata": {
        "id": "r5urxh9n0CaK"
      },
      "source": [
        "**Ejercicio 1:** Crear un programa que pregunte al usuario por su nombre, edad, una frase favorita y autor de la frase favorita. El programa deberá de imprimir un mensaje compuesto por el nombre y edad del usuario diciendo que su frase favorita es la que dió anteriormente y el autor de dicha frase es el nombre previamente dado. Aquí habrá que realizar una concatenación de variables. "
      ]
    },
    {
      "cell_type": "code",
      "metadata": {
        "colab": {
          "base_uri": "https://localhost:8080/"
        },
        "id": "qTgWK5bNxMrR",
        "outputId": "fcd7a9e5-4e51-4686-d58a-738a8c8c3b66"
      },
      "source": [
        "\"Ejercicio #1\"\n",
        "print(\"Hola :)\")\n",
        "nombre = input(\"¿Cuál es tu nombre? \")\n",
        "edad = input(\"¿Cuantos años tienes? \")\n",
        "frase = input(\"¿Cuál es tu frase favorita? \")\n",
        "autor = input(\"¿Quién es el autor de esta frase? \")\n",
        "\n",
        "print(\"Eres \" + nombre + \", con \" + edad + \" años de edad.\\nY tu frase favorita es <\" + frase + \"> de \" + autor + \".\")"
      ],
      "execution_count": null,
      "outputs": [
        {
          "output_type": "stream",
          "name": "stdout",
          "text": [
            "Hola :)\n",
            "¿Cuál es tu nombre? Juan Pablo\n",
            "¿Cuantos años tienes? 20\n",
            "¿Cuál es tu frase favorita? It aint the speakers that bump hearts its our hearts that make the beat\n",
            "¿Quién es el autor de esta frase? Tyler Joseph\n",
            "Eres Juan Pablo, con 20 años de edad.\n",
            "Y tu frase favorita es <It aint the speakers that bump hearts its our hearts that make the beat> de Tyler Joseph.\n"
          ]
        }
      ]
    }
  ]
}
