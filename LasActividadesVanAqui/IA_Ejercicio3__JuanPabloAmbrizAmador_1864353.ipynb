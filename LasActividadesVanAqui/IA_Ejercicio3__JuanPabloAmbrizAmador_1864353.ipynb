{
  "nbformat": 4,
  "nbformat_minor": 0,
  "metadata": {
    "colab": {
      "name": "IA_Ejercicio3_ JuanPabloAmbrizAmador_1864353",
      "provenance": [],
      "authorship_tag": "ABX9TyNte/xnGYCCpRz6XXN70l15",
      "include_colab_link": true
    },
    "kernelspec": {
      "name": "python3",
      "display_name": "Python 3"
    },
    "language_info": {
      "name": "python"
    }
  },
  "cells": [
    {
      "cell_type": "markdown",
      "metadata": {
        "id": "view-in-github",
        "colab_type": "text"
      },
      "source": [
        "<a href=\"https://colab.research.google.com/github/AmbrizPapo/Inteligencia-Artificial-y-Redes-Neuronales-1864353/blob/main/LasActividadesVanAqui/IA_Ejercicio3__JuanPabloAmbrizAmador_1864353.ipynb\" target=\"_parent\"><img src=\"https://colab.research.google.com/assets/colab-badge.svg\" alt=\"Open In Colab\"/></a>"
      ]
    },
    {
      "cell_type": "markdown",
      "metadata": {
        "id": "7EucKJsCsbN7"
      },
      "source": [
        "# **Juan Pablo Ambriz Amador 1864353 IB IA y RN N4**"
      ]
    },
    {
      "cell_type": "markdown",
      "metadata": {
        "id": "33pvjX28saxU"
      },
      "source": [
        "**Ejercicio 3:** Crear un programa que evalúe dos expresiones lógicas con `and`, dos con `or` y dos con `not`. Cada expresión deberá hacer uso de operadores de comparación. \n",
        "\n"
      ]
    },
    {
      "cell_type": "code",
      "metadata": {
        "colab": {
          "base_uri": "https://localhost:8080/"
        },
        "id": "e6KaAZtbsO19",
        "outputId": "e245d42e-2807-4452-be94-b75f24b1e874"
      },
      "source": [
        "\"Ejercicio 3\"\n",
        "print(\"And:\")\n",
        "print(\"10>1 and 10>2\")\n",
        "print(10>1 and 10>2)\n",
        "print(\"10<1 and 10<11\")\n",
        "print(10<1 and 10<11)\n",
        "print(\"Or:\")\n",
        "print(\"10>1 or 10>=2\")\n",
        "print(10>1 or 10>=2)\n",
        "print(\"10>12 or 10==11\")\n",
        "print(10>12 or 10==11)\n",
        "print(\"Not:\")\n",
        "print(\"not(1<12 and 10>=11)\")\n",
        "print(not(1<12 and 10>=11))\n",
        "print(\"not(2<=3 and 13>12)\")\n",
        "print(not(2<=3 and 13>12))\n"
      ],
      "execution_count": 2,
      "outputs": [
        {
          "output_type": "stream",
          "name": "stdout",
          "text": [
            "And:\n",
            "10>1 and 10>2\n",
            "True\n",
            "10<1 and 10<11\n",
            "False\n",
            "Or:\n",
            "10>1 or 10>=2\n",
            "True\n",
            "10>12 or 10==11\n",
            "False\n",
            "Not:\n",
            "not(1<12 and 10>=11)\n",
            "True\n",
            "not(2<=3 and 13>12)\n",
            "False\n"
          ]
        }
      ]
    }
  ]
}