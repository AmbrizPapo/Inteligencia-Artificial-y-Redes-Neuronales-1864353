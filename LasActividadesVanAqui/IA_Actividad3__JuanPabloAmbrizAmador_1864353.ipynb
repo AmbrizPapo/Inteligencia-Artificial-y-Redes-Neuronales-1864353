{
  "nbformat": 4,
  "nbformat_minor": 0,
  "metadata": {
    "colab": {
      "name": "IA_Actividad3_ JuanPabloAmbrizAmador_1864353",
      "provenance": [],
      "collapsed_sections": [],
      "authorship_tag": "ABX9TyP0k7x14llFPqj+E2lZ+zDo",
      "include_colab_link": true
    },
    "kernelspec": {
      "name": "python3",
      "display_name": "Python 3"
    },
    "language_info": {
      "name": "python"
    }
  },
  "cells": [
    {
      "cell_type": "markdown",
      "metadata": {
        "id": "view-in-github",
        "colab_type": "text"
      },
      "source": [
        "<a href=\"https://colab.research.google.com/github/AmbrizPapo/Inteligencia-Artificial-y-Redes-Neuronales-1864353/blob/main/LasActividadesVanAqui/IA_Actividad3__JuanPabloAmbrizAmador_1864353.ipynb\" target=\"_parent\"><img src=\"https://colab.research.google.com/assets/colab-badge.svg\" alt=\"Open In Colab\"/></a>"
      ]
    },
    {
      "cell_type": "markdown",
      "metadata": {
        "id": "AT6aDtQP9Qcd"
      },
      "source": [
        "# **Juan Pablo Ambriz Amador 1864353 IB IA y RN N4**"
      ]
    },
    {
      "cell_type": "markdown",
      "metadata": {
        "id": "r5urxh9n0CaK"
      },
      "source": [
        "**Ejercicio 1.1:** \n",
        "Piensa en 7 comidas diferente que te gusten. Implementa un programa que pregunte por las 7 comidas, las almacene en una lista y que posteriermente imprima cada una de ellas utilizando uno de los ciclos comentados en clase."
      ]
    },
    {
      "cell_type": "code",
      "metadata": {
        "colab": {
          "base_uri": "https://localhost:8080/"
        },
        "id": "qTgWK5bNxMrR",
        "outputId": "0ca88599-aad9-4b1b-c69c-d67c26ebaf74"
      },
      "source": [
        "\"Ejercicio #1.1\"\n",
        "print(\"Hola :), piensa en 7 de tus comidas favoritas \")\n",
        "comida = [] #lista \n",
        "for i in range(0,7): #ciclo\n",
        "    extra = input(\"Ingresa una de tus comidas favoritas:\")\n",
        "    comida.append(extra)\n",
        "    \n",
        "print(\"Tus comidas favoritas son:\") \n",
        "for i in comida: #ciclo\n",
        "    print(i)"
      ],
      "execution_count": null,
      "outputs": [
        {
          "output_type": "stream",
          "name": "stdout",
          "text": [
            "Hola :), piensa en 7 de tus comidas favoritas \n",
            "Ingresa una de tus comidas favoritas:Mango\n",
            "Ingresa una de tus comidas favoritas:Milanesa\n",
            "Ingresa una de tus comidas favoritas:Nieve\n",
            "Ingresa una de tus comidas favoritas:Pasta\n",
            "Ingresa una de tus comidas favoritas:Hamburguesa\n",
            "Ingresa una de tus comidas favoritas:Moras\n",
            "Ingresa una de tus comidas favoritas:Papa\n",
            "Tus comidas favoritas son:\n",
            "Mango\n",
            "Milanesa\n",
            "Nieve\n",
            "Pasta\n",
            "Hamburguesa\n",
            "Moras\n",
            "Papa\n"
          ]
        }
      ]
    },
    {
      "cell_type": "markdown",
      "metadata": {
        "id": "csPhZvcjtdt1"
      },
      "source": [
        "**Ejercicio 1.2:**  Modifica el ejercicio 1.1 para que imprima cada una de las comidas favoritas junto con una oracición inicial: \"Una de mis comidas favoritas es [comida1]\"."
      ]
    },
    {
      "cell_type": "code",
      "metadata": {
        "colab": {
          "base_uri": "https://localhost:8080/"
        },
        "id": "ye-bqN31_k_r",
        "outputId": "a2d19b48-d407-48c9-cd82-9738af220e04"
      },
      "source": [
        "\"Ejercicio #1.2\"\n",
        "print(\"Hola :), piensa en 7 de tus comidas favoritas \")\n",
        "comida = [] #lista \n",
        "for i in range(0,7): #ciclo\n",
        "    extra = input(\"Ingresa una de tus comidas favoritas:\")\n",
        "    comida.append(extra)\n",
        "\n",
        "for i in comida: #ciclo\n",
        "    print(\"Una de mis comidas favoritas es \"+ i.upper() +\".\")"
      ],
      "execution_count": null,
      "outputs": [
        {
          "output_type": "stream",
          "name": "stdout",
          "text": [
            "Hola :), piensa en 7 de tus comidas favoritas \n",
            "Ingresa una de tus comidas favoritas:Mango\n",
            "Ingresa una de tus comidas favoritas:Milanesa\n",
            "Ingresa una de tus comidas favoritas:Nieve\n",
            "Ingresa una de tus comidas favoritas:Pasta\n",
            "Ingresa una de tus comidas favoritas:Hamburguesa]\n",
            "Ingresa una de tus comidas favoritas:Moras\n",
            "Ingresa una de tus comidas favoritas:Papa\n",
            "Una de mis comidas favoritas es MANGO.\n",
            "Una de mis comidas favoritas es MILANESA.\n",
            "Una de mis comidas favoritas es NIEVE.\n",
            "Una de mis comidas favoritas es PASTA.\n",
            "Una de mis comidas favoritas es HAMBURGUESA].\n",
            "Una de mis comidas favoritas es MORAS.\n",
            "Una de mis comidas favoritas es PAPA.\n"
          ]
        }
      ]
    },
    {
      "cell_type": "markdown",
      "metadata": {
        "id": "xWlx8LUMz-GK"
      },
      "source": [
        "**Ejercicio 2:** Crear un juego de piedra, papel o tijera de dos jugadores. El programa preguntará por la opción del jugador 1 y la opción del jugador 2 y dará como resultado quien ganó el juego. "
      ]
    },
    {
      "cell_type": "code",
      "metadata": {
        "colab": {
          "base_uri": "https://localhost:8080/"
        },
        "id": "CuNBdD0Vz9jc",
        "outputId": "951ac093-8caf-4507-9f24-ca49189307ec"
      },
      "source": [
        "\"Ejercicio #2\"\n",
        "print(\"Buen día :)\")\n",
        "print(\"Juguemos piedra, papel o tijeras\")\n",
        "J1 = input(\"Jugador UNO, Cual es tu movimiento piedra, papel o tijeras? \")#entrada\n",
        "J2 = input(\"Jugador DOS, Cual es tu movimiento piedra, papel o tijeras? \")#entrada\n",
        "\n",
        "if J1 == \"piedra\" and J2 == \"papel\":\n",
        "    print(\"El Jugador DOS Gana!!\")\n",
        "if J1 == \"papel\" and J2 == \"piedra\":\n",
        "    print(\"El Jugador UNO Gana!!\") \n",
        "if J1 == \"tijeras\" and J2 == \"piedra\":\n",
        "    print(\"El Jugador DOS Gana!!\")\n",
        "if J1 == \"piedra\" and J2 == \"tijeras\":\n",
        "    print(\"El Jugador UNO Gana!!\")\n",
        "if J1 == \"papel\" and J2 == \"tijeras\":\n",
        "    print(\"El Jugador DOS Gana!!\")\n",
        "if J1 == \"tijeras\" and J2 == \"papel\":\n",
        "    print(\"El Jugador UNO Gana!!\")\n",
        "if J1 == \"piedra\" and J2 == \"piedra\":\n",
        "    print(\"Ha habido un Empate :)\")\n",
        "if J1 == \"papel\" and J2 == \"papel\":\n",
        "    print(\"Ha habido un Empate :)\")\n",
        "if J1 == \"tijeras\" and J2 == \"tijeras\":\n",
        "    print(\"Ha habido un Empate :)\")\n",
        "\n",
        "\n"
      ],
      "execution_count": 46,
      "outputs": [
        {
          "output_type": "stream",
          "name": "stdout",
          "text": [
            "Buen día :)\n",
            "Juguemos piedra, papel o tijeras\n",
            "Jugador UNO, Cual es tu movimiento piedra, papel o tijeras? piedra\n",
            "Jugador DOS, Cual es tu movimiento piedra, papel o tijeras? papel\n",
            "El Jugador DOS Gana!!\n"
          ]
        }
      ]
    },
    {
      "cell_type": "markdown",
      "metadata": {
        "id": "z7WbpGOvz-sR"
      },
      "source": [
        "**Ejercicio 3:** Implementar un programa que imprima el siguiente patron:\n",
        "123456\n",
        "12345\n",
        "1234\n",
        "123\n",
        "12\n",
        "1\n",
        "12\n",
        "123\n",
        "1234\n",
        "12345\n",
        "123456\n"
      ]
    },
    {
      "cell_type": "code",
      "metadata": {
        "colab": {
          "base_uri": "https://localhost:8080/"
        },
        "id": "VkQlyNNq0DIq",
        "outputId": "7eb8e38a-73f9-4eaf-ee02-6fd05cf88918"
      },
      "source": [
        "\"Ejercicio 3\"\n",
        "print(\"Patron :)\")\n",
        "for i in range(6,0,-1): #ciclo\n",
        "    for j in range(1,i+1): #ciclo\n",
        "            print(j, end=\" \")\n",
        "    print(\"\\r\") #pasar un renglon entre lineas para mostrar patron\n",
        "for i in range(0,7,+1): #ciclo\n",
        "    for j in range(1,i+1): #ciclo\n",
        "        print(j, end=\" \")\n",
        "    print(\"\\r\") "
      ],
      "execution_count": 45,
      "outputs": [
        {
          "output_type": "stream",
          "name": "stdout",
          "text": [
            "Patron :)\n",
            "1 2 3 4 5 6 \r\n",
            "1 2 3 4 5 \r\n",
            "1 2 3 4 \r\n",
            "1 2 3 \r\n",
            "1 2 \r\n",
            "1 \r\n",
            "\r\n",
            "1 \r\n",
            "1 2 \r\n",
            "1 2 3 \r\n",
            "1 2 3 4 \r\n",
            "1 2 3 4 5 \r\n",
            "1 2 3 4 5 6 \r\n"
          ]
        }
      ]
    }
  ]
}