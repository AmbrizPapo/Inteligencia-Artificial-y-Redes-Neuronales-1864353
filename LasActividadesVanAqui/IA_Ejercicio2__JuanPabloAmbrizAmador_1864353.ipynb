{
  "nbformat": 4,
  "nbformat_minor": 0,
  "metadata": {
    "colab": {
      "name": "IA_Ejercicio2_ JuanPabloAmbrizAmador_1864353",
      "provenance": [],
      "authorship_tag": "ABX9TyMs0UMY/fh3tUZ3dDX8PWKT",
      "include_colab_link": true
    },
    "kernelspec": {
      "name": "python3",
      "display_name": "Python 3"
    },
    "language_info": {
      "name": "python"
    }
  },
  "cells": [
    {
      "cell_type": "markdown",
      "metadata": {
        "id": "view-in-github",
        "colab_type": "text"
      },
      "source": [
        "<a href=\"https://colab.research.google.com/github/AmbrizPapo/Inteligencia-Artificial-y-Redes-Neuronales-1864353/blob/main/LasActividadesVanAqui/IA_Ejercicio2__JuanPabloAmbrizAmador_1864353.ipynb\" target=\"_parent\"><img src=\"https://colab.research.google.com/assets/colab-badge.svg\" alt=\"Open In Colab\"/></a>"
      ]
    },
    {
      "cell_type": "markdown",
      "metadata": {
        "id": "7EucKJsCsbN7"
      },
      "source": [
        "# **Juan Pablo Ambriz Amador 1864353 IB IA y RN N4**"
      ]
    },
    {
      "cell_type": "markdown",
      "metadata": {
        "id": "33pvjX28saxU"
      },
      "source": [
        "**Ejercicio 2:** Crear un programa que le pida al usuario capturar dos números enteros y dos números flotantes. Después, realizará la suma, resta, multiplicación y división, de ambos pares de números. Como resultado se deberán de obtener 8 valores. Imprimir todos estos reultados."
      ]
    },
    {
      "cell_type": "code",
      "metadata": {
        "colab": {
          "base_uri": "https://localhost:8080/"
        },
        "id": "e6KaAZtbsO19",
        "outputId": "154613d5-aed9-48fa-bf8b-7f9060dde3f8"
      },
      "source": [
        "\"Ejercicio #2\"\n",
        "print(\"Buen día :)\")\n",
        "n_entero = int(input(\"Ingresa un número entero: \"))\n",
        "n_entero2 = int(input(\"Ingresa un segundo número entero: \"))\n",
        "n_decimal = float(input(\"Ingresa un número decimal: \"))\n",
        "n_decimal2 = float(input(\"Ingresa un segundo número decimal: \"))\n",
        "\n",
        "print(\"La Suma de tus números enteros sería: \")\n",
        "print(n_entero + n_entero2)\n",
        "print(\"La Resta de tus números enteros sería: \")\n",
        "print(n_entero - n_entero2)\n",
        "print(\"La Multiplicación de tus números enteros sería: \")\n",
        "print(n_entero * n_entero2)\n",
        "print(\"Y La División de tus números enteros sería: \")\n",
        "print(n_entero / n_entero2)\n",
        "\n",
        "print(\"La Suma de tus números decimales sería: \")\n",
        "print(n_decimal + n_decimal2)\n",
        "print(\"La Resta de tus números decimales sería: \")\n",
        "print(n_decimal - n_decimal2)\n",
        "print(\"La Multiplicación de tus números decimales sería: \")\n",
        "print(n_decimal * n_decimal2)\n",
        "print(\"La División de tus números decimales sería: \")\n",
        "print(n_decimal / n_decimal2)\n"
      ],
      "execution_count": 1,
      "outputs": [
        {
          "output_type": "stream",
          "name": "stdout",
          "text": [
            "Buen día :)\n",
            "Ingresa un número entero: 1\n",
            "Ingresa un segundo número entero: 2\n",
            "Ingresa un número decimal: .3\n",
            "Ingresa un segundo número decimal: .21\n",
            "La Suma de tus números enteros sería: \n",
            "3\n",
            "La Resta de tus números enteros sería: \n",
            "-1\n",
            "La Multiplicación de tus números enteros sería: \n",
            "2\n",
            "Y La División de tus números enteros sería: \n",
            "0.5\n",
            "La Suma de tus números decimales sería: \n",
            "0.51\n",
            "La Resta de tus números decimales sería: \n",
            "0.09\n",
            "La Multiplicación de tus números decimales sería: \n",
            "0.063\n",
            "La División de tus números decimales sería: \n",
            "1.4285714285714286\n"
          ]
        }
      ]
    }
  ]
}