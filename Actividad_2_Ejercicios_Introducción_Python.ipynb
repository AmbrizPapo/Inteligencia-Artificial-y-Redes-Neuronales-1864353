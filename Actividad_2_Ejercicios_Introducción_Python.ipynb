{
  "nbformat": 4,
  "nbformat_minor": 0,
  "metadata": {
    "colab": {
      "name": "Actividad 2.- Ejercicios Introducción Python",
      "provenance": [],
      "authorship_tag": "ABX9TyM24gsAe8LaGquGVl+GnzD4",
      "include_colab_link": true
    },
    "kernelspec": {
      "name": "python3",
      "display_name": "Python 3"
    },
    "language_info": {
      "name": "python"
    }
  },
  "cells": [
    {
      "cell_type": "markdown",
      "metadata": {
        "id": "view-in-github",
        "colab_type": "text"
      },
      "source": [
        "<a href=\"https://colab.research.google.com/github/AmbrizPapo/Inteligencia-Artificial-y-Redes-Neuronales-1864353/blob/main/Actividad_2_Ejercicios_Introducci%C3%B3n_Python.ipynb\" target=\"_parent\"><img src=\"https://colab.research.google.com/assets/colab-badge.svg\" alt=\"Open In Colab\"/></a>"
      ]
    },
    {
      "cell_type": "markdown",
      "metadata": {
        "id": "r5urxh9n0CaK"
      },
      "source": [
        "Ejercicio 1: Crear un programa que pregunte al usuario por su nombre, edad, una frase favorita y autor de la frase favorita. El programa deberá de imprimir un mensaje compuesto por el nombre y edad del usuario diciendo que su frase favorita es la que dió anteriormente y el autor de dicha frase es el nombre previamente dado. Aquí habrá que realizar una concatenación de variables. "
      ]
    },
    {
      "cell_type": "code",
      "metadata": {
        "id": "qTgWK5bNxMrR"
      },
      "source": [
        ""
      ],
      "execution_count": null,
      "outputs": []
    },
    {
      "cell_type": "markdown",
      "metadata": {
        "id": "xWlx8LUMz-GK"
      },
      "source": [
        "Ejercicio 2: Crear un programa que le pida al usuario capturar dos números enteros y dos números flotantes. Después, realizará la suma, resta, multiplicación y división, de ambos pares de números. Como resultado se deberán de obtener 8 valores. Imprimir todos estos reultados."
      ]
    },
    {
      "cell_type": "code",
      "metadata": {
        "id": "CuNBdD0Vz9jc"
      },
      "source": [
        ""
      ],
      "execution_count": null,
      "outputs": []
    },
    {
      "cell_type": "markdown",
      "metadata": {
        "id": "z7WbpGOvz-sR"
      },
      "source": [
        "Ejercicio 3: Crear un programa que evalúe dos expresiones lógicas con `and`, dos con `or` y dos con `not`. Cada expresión deberá hacer uso de operadores de comparación. \n"
      ]
    },
    {
      "cell_type": "code",
      "metadata": {
        "id": "VkQlyNNq0DIq"
      },
      "source": [
        ""
      ],
      "execution_count": null,
      "outputs": []
    }
  ]
}