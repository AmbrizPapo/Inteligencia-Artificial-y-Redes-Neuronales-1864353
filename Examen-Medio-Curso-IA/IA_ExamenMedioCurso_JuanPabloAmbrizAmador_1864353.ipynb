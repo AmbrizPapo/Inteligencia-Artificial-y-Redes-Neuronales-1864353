{
  "nbformat": 4,
  "nbformat_minor": 0,
  "metadata": {
    "colab": {
      "name": "IA_ExamenMedioCurso_JuanPabloAmbrizAmador_1864353.ipynb",
      "provenance": [],
      "authorship_tag": "ABX9TyNLf9y/Ii7DqJhuOM+cJM9B",
      "include_colab_link": true
    },
    "kernelspec": {
      "name": "python3",
      "display_name": "Python 3"
    },
    "language_info": {
      "name": "python"
    }
  },
  "cells": [
    {
      "cell_type": "markdown",
      "metadata": {
        "id": "view-in-github",
        "colab_type": "text"
      },
      "source": [
        "<a href=\"https://colab.research.google.com/github/AmbrizPapo/Inteligencia-Artificial-y-Redes-Neuronales-1864353/blob/main/Examen-Medio-Curso-IA/IA_ExamenMedioCurso_JuanPabloAmbrizAmador_1864353.ipynb\" target=\"_parent\"><img src=\"https://colab.research.google.com/assets/colab-badge.svg\" alt=\"Open In Colab\"/></a>"
      ]
    },
    {
      "cell_type": "markdown",
      "metadata": {
        "id": "CPkPDCA3BM0y"
      },
      "source": [
        "# **Juan Pablo Ambriz Amador 1864353 IB**\n",
        "# Examen Medio Curso IA"
      ]
    },
    {
      "cell_type": "markdown",
      "metadata": {
        "id": "d9HhA3rGBNBU"
      },
      "source": [
        "1.1 El usuario dará un número al azar y el código calculará la suma de todos los números desde el 1 hasta el número dado por el usuario.\n",
        "Ejemplo: el usuario dió el número 4, el código deberá de dar como resultado 10."
      ]
    },
    {
      "cell_type": "code",
      "metadata": {
        "colab": {
          "base_uri": "https://localhost:8080/"
        },
        "id": "_LPNzMrEBvAg",
        "outputId": "dcc88f5e-f6ed-44c5-b5b4-393d385b0bb1"
      },
      "source": [
        "\"Ejercicio 1.1\"\n",
        "print(\"Hola :)\")\n",
        "numero = int(input(\"Ingresa un numero Aleatorio:\"))\n",
        "suma = 0\n",
        "for i in range (1,numero+1): \n",
        "  suma = suma + i\n",
        "print (suma)"
      ],
      "execution_count": 5,
      "outputs": [
        {
          "output_type": "stream",
          "name": "stdout",
          "text": [
            "Hola :)\n",
            "Ingresa un numero Aleatorio:4\n",
            "10\n"
          ]
        }
      ]
    },
    {
      "cell_type": "markdown",
      "metadata": {
        "id": "zcrWC-b-BvQo"
      },
      "source": [
        "1.2 Dados el inicio y final de un rango de números, guardar ese rango de números en una lista. Después, imprimir los números que son pares en la lista por medio de uno de los ciclos que vimos en clase. \n",
        "Inicio = 6, final = 31"
      ]
    },
    {
      "cell_type": "code",
      "metadata": {
        "colab": {
          "base_uri": "https://localhost:8080/"
        },
        "id": "vWms5bqtB0C-",
        "outputId": "daed889f-c67a-4363-9036-c578daca41a0"
      },
      "source": [
        "\"Ejercicio 1.2\"\n",
        "print(\"Numeros pares dentro del rango :)\")\n",
        "rango=list(range(6,31))\n",
        "for i in rango:\n",
        "  if i%2== 0:\n",
        "    print(i)"
      ],
      "execution_count": 8,
      "outputs": [
        {
          "output_type": "stream",
          "name": "stdout",
          "text": [
            "Numeros pares dentro del rango :)\n",
            "6\n",
            "8\n",
            "10\n",
            "12\n",
            "14\n",
            "16\n",
            "18\n",
            "20\n",
            "22\n",
            "24\n",
            "26\n",
            "28\n",
            "30\n"
          ]
        }
      ]
    }
  ]
}